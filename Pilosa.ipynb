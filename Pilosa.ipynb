{
 "cells": [
  {
   "cell_type": "code",
   "execution_count": 78,
   "metadata": {
    "collapsed": true,
    "pycharm": {
     "name": "#%%\n"
    }
   },
   "outputs": [],
   "source": [
    "import pilosa"
   ]
  },
  {
   "cell_type": "code",
   "execution_count": 79,
   "outputs": [],
   "source": [
    "client = pilosa.Client(cluster_or_uri='http://192.168.1.53:10101')"
   ],
   "metadata": {
    "collapsed": false,
    "pycharm": {
     "name": "#%%\n"
    }
   }
  },
  {
   "cell_type": "code",
   "execution_count": 80,
   "outputs": [],
   "source": [
    "schema = client.schema()"
   ],
   "metadata": {
    "collapsed": false,
    "pycharm": {
     "name": "#%%\n"
    }
   }
  },
  {
   "cell_type": "code",
   "execution_count": 81,
   "outputs": [],
   "source": [
    "myindex = schema.index(\"cseg\")"
   ],
   "metadata": {
    "collapsed": false,
    "pycharm": {
     "name": "#%%\n"
    }
   }
  },
  {
   "cell_type": "code",
   "execution_count": 82,
   "outputs": [],
   "source": [
    "myfield = myindex.field(\"hobbies\")"
   ],
   "metadata": {
    "collapsed": false,
    "pycharm": {
     "name": "#%%\n"
    }
   }
  },
  {
   "cell_type": "code",
   "execution_count": 83,
   "outputs": [],
   "source": [
    "client.sync_schema(schema)"
   ],
   "metadata": {
    "collapsed": false,
    "pycharm": {
     "name": "#%%\n"
    }
   }
  },
  {
   "cell_type": "code",
   "execution_count": 113,
   "outputs": [
    {
     "name": "stdout",
     "output_type": "stream",
     "text": [
      "Got columns:  []\n"
     ]
    }
   ],
   "source": [
    "response = client.query(myfield.topn(n=5))\n",
    "result = response.result\n",
    "if result:\n",
    "    columns = result.row.columns\n",
    "    print(\"Got columns: \", columns)"
   ],
   "metadata": {
    "collapsed": false,
    "pycharm": {
     "name": "#%%\n"
    }
   }
  },
  {
   "cell_type": "code",
   "execution_count": 110,
   "outputs": [
    {
     "data": {
      "text/plain": "[]"
     },
     "execution_count": 110,
     "metadata": {},
     "output_type": "execute_result"
    }
   ],
   "source": [
    "result.count_items"
   ],
   "metadata": {
    "collapsed": false,
    "pycharm": {
     "name": "#%%\n"
    }
   }
  },
  {
   "cell_type": "code",
   "execution_count": 116,
   "outputs": [
    {
     "data": {
      "text/plain": "'{\"py/object\": \"pilosa.response.QueryResult\", \"row\": {\"py/object\": \"pilosa.response.RowResult\", \"columns\": [], \"keys\": [], \"attributes\": {}}, \"count_items\": [], \"count\": 0, \"value\": 0, \"changed\": false, \"group_counts\": [], \"row_identifiers\": {\"py/object\": \"pilosa.response.RowIdentifiersResult\", \"ids\": [], \"keys\": []}}'"
     },
     "execution_count": 116,
     "metadata": {},
     "output_type": "execute_result"
    }
   ],
   "source": [
    "import jsonpickle\n",
    "frozen = jsonpickle.encode(result)\n",
    "frozen"
   ],
   "metadata": {
    "collapsed": false,
    "pycharm": {
     "name": "#%%\n"
    }
   }
  },
  {
   "cell_type": "code",
   "execution_count": 106,
   "outputs": [
    {
     "name": "stdout",
     "output_type": "stream",
     "text": [
      "Help on QueryResult in module pilosa.response object:\n",
      "\n",
      "class QueryResult(builtins.object)\n",
      " |  QueryResult(row=None, count_items=None, count=0, value=0, changed=False, group_counts=None, row_identifiers=None)\n",
      " |  \n",
      " |  Represents one of the results in the response.\n",
      " |  \n",
      " |  * See `Query Language <https://www.pilosa.com/docs/query-language/>`_\n",
      " |  \n",
      " |  Methods defined here:\n",
      " |  \n",
      " |  __init__(self, row=None, count_items=None, count=0, value=0, changed=False, group_counts=None, row_identifiers=None)\n",
      " |      Initialize self.  See help(type(self)) for accurate signature.\n",
      " |  \n",
      " |  ----------------------------------------------------------------------\n",
      " |  Class methods defined here:\n",
      " |  \n",
      " |  from_internal(obj) from builtins.type\n",
      " |  \n",
      " |  ----------------------------------------------------------------------\n",
      " |  Data descriptors defined here:\n",
      " |  \n",
      " |  __dict__\n",
      " |      dictionary for instance variables (if defined)\n",
      " |  \n",
      " |  __weakref__\n",
      " |      list of weak references to the object (if defined)\n",
      "\n"
     ]
    }
   ],
   "source": [
    "help(list(response.results)[0])"
   ],
   "metadata": {
    "collapsed": false,
    "pycharm": {
     "name": "#%%\n"
    }
   }
  },
  {
   "cell_type": "code",
   "execution_count": 103,
   "outputs": [
    {
     "name": "stdout",
     "output_type": "stream",
     "text": [
      "class Field:\n",
      "    \"\"\"Fields are used to segment and define different functional characteristics within your entire index.\n",
      "\n",
      "    You can think of a Field as a table-like data partition within your Index.\n",
      "    Row-level attributes are namespaced at the Field level.\n",
      "\n",
      "    Do not create a Field object directly. Instead, use ``pilosa.Index.field`` method.\n",
      "\n",
      "    * See `Data Model <https://www.pilosa.com/docs/data-model/>`_\n",
      "    * See `Query Language <https://www.pilosa.com/docs/query-language/>`_\n",
      "    \"\"\"\n",
      "\n",
      "    def __init__(self, index, name, time_quantum,\n",
      "                 cache_type, cache_size, int_min, int_max, keys, mutex, bool):\n",
      "        validate_field_name(name)\n",
      "        if int_max < int_min:\n",
      "            raise ValidationError(\"Max should be greater than min for int fields\")\n",
      "\n",
      "        self.index = index\n",
      "        self.name = name\n",
      "        self.time_quantum = time_quantum\n",
      "        self.cache_type = cache_type\n",
      "        self.cache_size = cache_size\n",
      "        self.int_min = int_min\n",
      "        self.int_max = int_max\n",
      "        self.keys = keys\n",
      "        self.mutex = mutex\n",
      "        self.bool = bool\n",
      "\n",
      "    def __eq__(self, other):\n",
      "        if id(self) == id(other):\n",
      "            return True\n",
      "        if not isinstance(other, self.__class__):\n",
      "            return False\n",
      "\n",
      "        # Note that we skip comparing the fields of the indexes by using index._meta_eq\n",
      "        # in order to avoid a call cycle\n",
      "        return self.name == other.name and \\\n",
      "               self.index._meta_eq(other.index)\n",
      "\n",
      "    def __ne__(self, other):\n",
      "        return not self.__eq__(other)\n",
      "\n",
      "    @property\n",
      "    def field_type(self):\n",
      "        if self.mutex:\n",
      "            return \"mutex\"\n",
      "        if self.bool:\n",
      "            return \"bool\"\n",
      "        if self.time_quantum != TimeQuantum.NONE:\n",
      "            return \"time\"\n",
      "        if self.int_min != 0 or self.int_max != 0:\n",
      "            return \"int\"\n",
      "        return \"set\"\n",
      "\n",
      "    def copy(self):\n",
      "        return Field(self.index, self.name, self.time_quantum,\n",
      "                     self.cache_type, self.cache_size,\n",
      "                     self.int_min, self.int_max, self.keys,\n",
      "                     self.mutex, self.bool)\n",
      "\n",
      "    def row(self, row_idkey, from_=None, to=None):\n",
      "        \"\"\"Creates a Row query.\n",
      "\n",
      "        Row retrieves the indices of all the set columns in a row or column based on whether the row label or column label is given in the query. It also retrieves any attributes set on that row or column.\n",
      "\n",
      "        :param int row_idkey:\n",
      "        :param datetime from_: (Optional) start of the time range\n",
      "        :param datetime to: (Optional) end of the time range\n",
      "        :return: Pilosa row query\n",
      "        :rtype: pilosa.PQLQuery\n",
      "\n",
      "        * See `Query Language/Row <https://www.pilosa.com/docs/latest/query-language/#row>`_\n",
      "        \"\"\"\n",
      "        if from_ or to:\n",
      "            # this is a row range query\n",
      "            return self._row_range(row_idkey, from_, to)\n",
      "        row_str = idkey_as_str(row_idkey)\n",
      "        fmt = u\"Row(%s=%s)\"\n",
      "        return PQLQuery(fmt % (self.name, row_str), self.index)\n",
      "\n",
      "    def set(self, row, col, timestamp=None):\n",
      "        \"\"\"Creates a Set query.\n",
      "\n",
      "        ``Set`` assigns a value of 1 to a bit in the binary matrix, thus associating the given row in the given field with the given column.\n",
      "\n",
      "        :param int row:\n",
      "        :param int col:\n",
      "        :param datetime timestamp:\n",
      "        :return: Pilosa query\n",
      "        :rtype: pilosa.PQLQuery\n",
      "\n",
      "        * See `Query Language/Set <https://www.pilosa.com/docs/latest/query-language/#set>`_\n",
      "        \"\"\"\n",
      "        row_str = idkey_as_str(row)\n",
      "        col_str = idkey_as_str(col)\n",
      "        ts = \", %s\" % timestamp.strftime(_TIME_FORMAT) if timestamp else ''\n",
      "        fmt = u\"Set(%s,%s=%s%s)\"\n",
      "        return PQLQuery(fmt % (col_str, self.name, row_str, ts), self.index)\n",
      "\n",
      "    def clear(self, row, col):\n",
      "        \"\"\"Creates a Clear query.\n",
      "\n",
      "        ``Clear`` assigns a value of 0 to a bit in the binary matrix, thus disassociating the given row in the given field from the given column.\n",
      "\n",
      "        :param int row:\n",
      "        :param int col:\n",
      "        :return: Pilosa query\n",
      "        :rtype: pilosa.PQLQuery\n",
      "\n",
      "        * See `Query Language/Clear <https://www.pilosa.com/docs/latest/query-language/#clear>`_\n",
      "        \"\"\"\n",
      "        row_str = idkey_as_str(row)\n",
      "        col_str = idkey_as_str(col)\n",
      "        fmt = u\"Clear(%s,%s=%s)\"\n",
      "        return PQLQuery(fmt % (col_str, self.name, row_str), self.index)\n",
      "\n",
      "    def topn(self, n, row=None, name=\"\", *values):\n",
      "        \"\"\"Creates a TopN query.\n",
      "\n",
      "        ``TopN`` returns the id and count of the top n rows (by count of columns) in the field.\n",
      "\n",
      "        * see: `TopN Query <https://www.pilosa.com/docs/query-language/#topn>`_\n",
      "\n",
      "        :param int n: number of items to return\n",
      "        :param pilosa.PQLQuery row: a PQL Row query\n",
      "        :param str name: only return rows which have the attribute specified by attribute name\n",
      "        :param object values: filter values to be matched against the attribute name\n",
      "\n",
      "        * See `Query Language/TopN <https://www.pilosa.com/docs/latest/query-language/#topn>`_\n",
      "        \"\"\"\n",
      "        parts = [self.name]\n",
      "        if row:\n",
      "            parts.append(row.serialize().query)\n",
      "        parts.append(\"n=%d\" % n)\n",
      "        if name:\n",
      "            validate_label(name)\n",
      "            values_str = json.dumps(values, separators=(',', ': '))\n",
      "            parts.extend([\"attrName='%s'\" % name, \"attrValues=%s\" % values_str])\n",
      "        qry = u\"TopN(%s)\" % \",\".join(parts)\n",
      "        return PQLQuery(qry, self.index)\n",
      "\n",
      "    def range(self, row, start, end):\n",
      "        \"\"\"Creates a Range query.\n",
      "\n",
      "        *Deprecated at Pilosa 1.3. Use `rowRange` instead.*\n",
      "\n",
      "        Similar to ``Row``, but only returns columns which were set with timestamps between the given start and end timestamps.\n",
      "\n",
      "        * see: `Range Query <https://www.pilosa.com/docs/query-language/#range>`_\n",
      "\n",
      "        :param int row:\n",
      "        :param datetime.datetime start: start timestamp\n",
      "        :param datetime.datetime end: end timestamp\n",
      "\n",
      "        * See `Query Language/Range <https://www.pilosa.com/docs/latest/query-language/#range>`_\n",
      "        \"\"\"\n",
      "        row_str = idkey_as_str(row)\n",
      "        start_str = start.strftime(_TIME_FORMAT)\n",
      "        end_str = end.strftime(_TIME_FORMAT)\n",
      "        fmt = u\"Range(%s=%s,%s,%s)\"\n",
      "        return PQLQuery(fmt % (self.name, row_str, start_str, end_str),\n",
      "                        self.index)\n",
      "\n",
      "    def _row_range(self, row, start, end):\n",
      "        \"\"\"Creates a Row query with timestamps.\"\"\"\n",
      "        row_str = idkey_as_str(row)\n",
      "        start_str = start.strftime(_TIME_FORMAT)\n",
      "        end_str = end.strftime(_TIME_FORMAT)\n",
      "        parts = ['%s=%s' % (self.name, row_str)]\n",
      "        if start:\n",
      "            parts.append(\"from='%s'\" % start_str)\n",
      "        if end:\n",
      "            parts.append(\"to='%s'\" % end_str)\n",
      "        return PQLQuery(u\"Row(%s)\" % ','.join(parts), self.index)\n",
      "\n",
      "    def set_row_attrs(self, row, attrs):\n",
      "        \"\"\"Creates a SetRowAttrs query.\n",
      "\n",
      "        ``SetRowAttrs`` associates arbitrary key/value pairs with a row in a field.\n",
      "\n",
      "        Following object types are accepted:\n",
      "\n",
      "        * int\n",
      "        * str\n",
      "        * bool\n",
      "        * float\n",
      "\n",
      "        :param int row:\n",
      "        :param dict attrs: row attributes\n",
      "        :return: Pilosa query\n",
      "        :rtype: pilosa.PQLQuery\n",
      "\n",
      "        * See `Query Language/SetRowAttrs <https://www.pilosa.com/docs/latest/query-language/#setrowattrs>`_\n",
      "        \"\"\"\n",
      "        row_str = idkey_as_str(row)\n",
      "        attrs_str = _create_attributes_str(attrs)\n",
      "        fmt = u\"SetRowAttrs(%s,%s,%s)\"\n",
      "        return PQLQuery(fmt % (self.name, row_str, attrs_str), self.index)\n",
      "\n",
      "    def store(self, row_query, row):\n",
      "        \"\"\"Creates a Store query.\n",
      "\n",
      "        ``Store`` writes the result of the row query to the specified row. If the row already exists, it will be replaced. The destination field must be of field type set.\n",
      "\n",
      "        :param row_query:\n",
      "        :param row: ID or key of the target row\n",
      "        :return: Pilosa query\n",
      "        :rtype: pilosa.PQLQuery\n",
      "\n",
      "        * See `Query Language/Store <https://www.pilosa.com/docs/latest/query-language/#store>`_\n",
      "        \"\"\"\n",
      "        row_str = idkey_as_str(row)\n",
      "        fmt = u\"Store(%s,%s=%s)\"\n",
      "        return PQLQuery(fmt % (row_query.serialize().query, self.name, row_str), self.index)\n",
      "\n",
      "    def clear_row(self, row):\n",
      "        \"\"\"Creates a ClearRow query.\n",
      "\n",
      "        ``ClearRow`` sets all bits to 0 in a given row of the binary matrix, thus disassociating the given row in the given field from all columns.\n",
      "\n",
      "        :param row: ID or key of the target row\n",
      "        :return: Pilosa query\n",
      "        :rtype: pilosa.PQLQuery\n",
      "\n",
      "        * See `Query Language/ClearRow <https://www.pilosa.com/docs/latest/query-language/#clearrow>`_\n",
      "        \"\"\"\n",
      "        row_str = idkey_as_str(row)\n",
      "        fmt = u\"ClearRow(%s=%s)\"\n",
      "        return PQLQuery(fmt %  (self.name, row_str), self.index)\n",
      "\n",
      "    def lt(self, n):\n",
      "        \"\"\"Creates a Range query with less than (<) condition.\n",
      "\n",
      "        :param n: The value to compare\n",
      "        :return: a PQL query\n",
      "        :rtype: PQLQuery\n",
      "\n",
      "        * See `Query Language/Range <https://www.pilosa.com/docs/latest/query-language/#range>`_\n",
      "        \"\"\"\n",
      "        return self._binary_operation(\"<\", n)\n",
      "\n",
      "    def lte(self, n):\n",
      "        \"\"\"Creates a Range query with less than or equal (<=) condition.\n",
      "\n",
      "        :param n: The value to compare\n",
      "        :return: a PQL query\n",
      "        :rtype: PQLQuery\n",
      "\n",
      "        * See `Query Language/Range <https://www.pilosa.com/docs/latest/query-language/#range>`_\n",
      "        \"\"\"\n",
      "        return self._binary_operation(\"<=\", n)\n",
      "\n",
      "    def gt(self, n):\n",
      "        \"\"\"Creates a Range query with greater than (>) condition.\n",
      "\n",
      "        :param n: The value to compare\n",
      "        :return: a PQL query\n",
      "        :rtype: PQLQuery\n",
      "\n",
      "        * See `Query Language/Range <https://www.pilosa.com/docs/latest/query-language/#range>`_\n",
      "        \"\"\"\n",
      "        return self._binary_operation(\">\", n)\n",
      "\n",
      "    def gte(self, n):\n",
      "        \"\"\"Creates a Range query with greater than or equal (>=) condition.\n",
      "\n",
      "        :param n: The value to compare\n",
      "        :return: a PQL query\n",
      "        :rtype: PQLQuery\n",
      "\n",
      "        * See `Query Language/Range <https://www.pilosa.com/docs/latest/query-language/#range>`_\n",
      "        \"\"\"\n",
      "        return self._binary_operation(\">=\", n)\n",
      "\n",
      "    def equals(self, n):\n",
      "        \"\"\"Creates a Range query with equals (==) condition.\n",
      "\n",
      "        :param n: The value to compare\n",
      "        :return: a PQL query\n",
      "        :rtype: PQLQuery\n",
      "\n",
      "        * See `Query Language/Range <https://www.pilosa.com/docs/latest/query-language/#range>`_\n",
      "        \"\"\"\n",
      "        return self._binary_operation(\"==\", n)\n",
      "\n",
      "    def not_equals(self, n):\n",
      "        \"\"\"Creates a Range query with not equals (!=) condition.\n",
      "\n",
      "        :param n: The value to compare\n",
      "        :return: a PQL query\n",
      "        :rtype: PQLQuery\n",
      "\n",
      "        * See `Query Language/Range <https://www.pilosa.com/docs/latest/query-language/#range>`_\n",
      "        \"\"\"\n",
      "        return self._binary_operation(\"!=\", n)\n",
      "\n",
      "    def not_null(self):\n",
      "        \"\"\"Creates a Range query with not null (!= null) condition.\n",
      "\n",
      "        :return: a PQL query\n",
      "        :rtype: PQLQuery\n",
      "\n",
      "        * See `Query Language/Range <https://www.pilosa.com/docs/latest/query-language/#range>`_\n",
      "        \"\"\"\n",
      "        q = u\"Range(%s != null)\" % self.name\n",
      "        return PQLQuery(q, self.index)\n",
      "\n",
      "    def between(self, a, b):\n",
      "        \"\"\"Creates a Range query with between (><) condition.\n",
      "\n",
      "        :param a: Closed range start\n",
      "        :param b: Closed range end\n",
      "        :return: a PQL query\n",
      "        :rtype: PQLQuery\n",
      "\n",
      "        * See `Query Language/Range <https://www.pilosa.com/docs/latest/query-language/#range>`_\n",
      "        \"\"\"\n",
      "        q = u\"Range(%s >< [%d,%d])\" % (self.name, a, b)\n",
      "        return PQLQuery(q, self.index)\n",
      "\n",
      "    def sum(self, row=None):\n",
      "        \"\"\"Creates a Sum query.\n",
      "\n",
      "        :param row: The row query to use.\n",
      "        :return: a PQL query\n",
      "        :rtype: PQLQuery\n",
      "\n",
      "        * See `Query Language/Sum <https://www.pilosa.com/docs/latest/query-language/#sum>`_\n",
      "        \"\"\"\n",
      "        return self._value_query(\"Sum\", row)\n",
      "\n",
      "    def min(self, row=None):\n",
      "        \"\"\"Creates a Min query.\n",
      "\n",
      "        :param row: The row query to use.\n",
      "        :return: a PQL query\n",
      "        :rtype: PQLQuery\n",
      "\n",
      "        * See `Query Language/Min <https://www.pilosa.com/docs/latest/query-language/#min>`_\n",
      "        \"\"\"\n",
      "        return self._value_query(\"Min\", row)\n",
      "\n",
      "    def max(self, row=None):\n",
      "        \"\"\"Creates a Max query.\n",
      "\n",
      "        :param row: The row query to use.\n",
      "        :return: a PQL query\n",
      "        :rtype: PQLQuery\n",
      "\n",
      "        * See `Query Language/Max <https://www.pilosa.com/docs/latest/query-language/#max>`_\n",
      "        \"\"\"\n",
      "        return self._value_query(\"Max\", row)\n",
      "\n",
      "    def setvalue(self, col, value):\n",
      "        \"\"\"Creates a SetValue query.\n",
      "\n",
      "        :param col: column ID or key\n",
      "        :param value: the value to assign to the field\n",
      "        :return: a PQL query\n",
      "        :rtype: PQLQuery\n",
      "\n",
      "        * See `Query Language/SetValue <https://www.pilosa.com/docs/latest/query-language/#setvalue>`_\n",
      "        \"\"\"\n",
      "        col_str = idkey_as_str(col)\n",
      "        q = u\"Set(%s,%s=%d)\" % (col_str, self.name, value)\n",
      "        return PQLQuery(q, self.index)\n",
      "\n",
      "    def rows(self, prev_row=None, limit=0, column=None):\n",
      "        \"\"\"Creates a ``Rows`` query.\n",
      "\n",
      "        :param *PQLQuery prev_row: (Optional) If given, rows prior to and including the specified row ID or\n",
      "key will not be returned.\n",
      "        :param int limit: (Optional) If given, the number of rowIDs returned will be less than or equal to\n",
      "``limit``.\n",
      "        :param int column: If given, only rows which have a set bit\n",
      "in the given column will be returned.\n",
      "        :return: Pilosa query\n",
      "        :rtype: pilosa.PQLQuery\n",
      "        \"\"\"\n",
      "\n",
      "        parts = [u\"field=%s\" % self.name]\n",
      "        if prev_row:\n",
      "            parts.append(u\"previous=%s\" % idkey_as_str(prev_row))\n",
      "        if limit > 0:\n",
      "            parts.append(u\"limit=%d\" % limit)\n",
      "        if column:\n",
      "            parts.append(u\"column=%s\" % idkey_as_str(column))\n",
      "        return PQLQuery(u\"Rows(%s)\" % u\",\".join(parts), self.index)\n",
      "\n",
      "    def _binary_operation(self, op, n):\n",
      "        q = u\"Range(%s %s %d)\" % (self.name, op, n)\n",
      "        return PQLQuery(q, self.index)\n",
      "\n",
      "    def _value_query(self, op, row):\n",
      "        row_str = \"%s, \" % row.serialize().query if row else \"\"\n",
      "        q = u\"%s(%sfield='%s')\" % (op, row_str, self.name)\n",
      "        return PQLQuery(q, self.index)\n",
      "\n",
      "    def _get_options_string(self):\n",
      "        field_type = self.field_type\n",
      "        data = {\n",
      "            \"type\": field_type\n",
      "        }\n",
      "        if self.keys:\n",
      "            data[\"keys\"] = self.keys\n",
      "        if self.time_quantum != TimeQuantum.NONE:\n",
      "            data[\"timeQuantum\"] = str(self.time_quantum)\n",
      "        elif self.int_min != 0 or self.int_max != 0:\n",
      "            data[\"min\"] = self.int_min\n",
      "            data[\"max\"] = self.int_max\n",
      "        elif field_type in [\"set\", \"mutex\"]:\n",
      "            if self.cache_type != CacheType.DEFAULT:\n",
      "                data[\"cacheType\"] = str(self.cache_type)\n",
      "            if self.cache_size > 0:\n",
      "                data[\"cacheSize\"] = self.cache_size\n",
      "        return json.dumps({\"options\": data}, sort_keys=True)\n",
      "\n"
     ]
    }
   ],
   "source": [
    "import inspect\n",
    "print(inspect.getsource(pilosa.Field))"
   ],
   "metadata": {
    "collapsed": false,
    "pycharm": {
     "name": "#%%\n"
    }
   }
  },
  {
   "cell_type": "code",
   "execution_count": 120,
   "outputs": [
    {
     "data": {
      "text/plain": "<pilosa.orm.SerializedQuery at 0x1980dc37bb0>"
     },
     "execution_count": 120,
     "metadata": {},
     "output_type": "execute_result"
    }
   ],
   "source": [
    "pilosa.PQLQuery('TopN(hobbies, k=5)', myindex).query"
   ],
   "metadata": {
    "collapsed": false,
    "pycharm": {
     "name": "#%%\n"
    }
   }
  },
  {
   "cell_type": "code",
   "execution_count": null,
   "outputs": [],
   "source": [],
   "metadata": {
    "collapsed": false,
    "pycharm": {
     "name": "#%%\n"
    }
   }
  }
 ],
 "metadata": {
  "kernelspec": {
   "display_name": "Python 3",
   "language": "python",
   "name": "python3"
  },
  "language_info": {
   "codemirror_mode": {
    "name": "ipython",
    "version": 2
   },
   "file_extension": ".py",
   "mimetype": "text/x-python",
   "name": "python",
   "nbconvert_exporter": "python",
   "pygments_lexer": "ipython2",
   "version": "2.7.6"
  }
 },
 "nbformat": 4,
 "nbformat_minor": 0
}