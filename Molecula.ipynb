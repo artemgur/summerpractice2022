{
 "cells": [
  {
   "cell_type": "code",
   "execution_count": 1,
   "outputs": [],
   "source": [
    "import molecula"
   ],
   "metadata": {
    "collapsed": false,
    "pycharm": {
     "name": "#%%\n"
    }
   }
  },
  {
   "cell_type": "code",
   "execution_count": 2,
   "outputs": [],
   "source": [
    "client = molecula.Client('192.168.1.53:20101')"
   ],
   "metadata": {
    "collapsed": false,
    "pycharm": {
     "name": "#%%\n"
    }
   }
  },
  {
   "cell_type": "code",
   "execution_count": 3,
   "outputs": [
    {
     "name": "stdout",
     "output_type": "stream",
     "text": [
      "{'id': '', 'name': 'cars', 'description': ''}\n",
      "{'id': '', 'name': 'cseg', 'description': ''}\n",
      "{'id': '', 'name': 'skills', 'description': ''}\n",
      "{'id': '', 'name': 'stargazer', 'description': ''}\n",
      "{'id': '', 'name': 'stargazer_rt', 'description': ''}\n"
     ]
    }
   ],
   "source": [
    "for x in client.get_vds_list():\n",
    "    print(x)"
   ],
   "metadata": {
    "collapsed": false,
    "pycharm": {
     "name": "#%%\n"
    }
   }
  },
  {
   "cell_type": "code",
   "execution_count": 4,
   "outputs": [
    {
     "data": {
      "text/plain": "{'id': '', 'name': 'stargazer', 'description': ''}"
     },
     "execution_count": 4,
     "metadata": {},
     "output_type": "execute_result"
    }
   ],
   "source": [
    "client.get_vds(name='stargazer')"
   ],
   "metadata": {
    "collapsed": false,
    "pycharm": {
     "name": "#%%\n"
    }
   }
  },
  {
   "cell_type": "code",
   "execution_count": 5,
   "outputs": [
    {
     "data": {
      "text/plain": "[{'_id': 0, 'repo_id': 2, 'ts': '2014-06-10T21:35:00Z', 'user_id': 4},\n {'_id': 1, 'repo_id': 408, 'ts': '2015-01-13T20:02:00Z', 'user_id': 4},\n {'_id': 2, 'repo_id': 2, 'ts': '2014-06-11T16:46:00Z', 'user_id': 5},\n {'_id': 3, 'repo_id': 2, 'ts': '2014-08-26T22:18:00Z', 'user_id': 9},\n {'_id': 4, 'repo_id': 1, 'ts': '2014-12-16T17:50:00Z', 'user_id': 10},\n {'_id': 5, 'repo_id': 361, 'ts': '2015-03-10T20:47:00Z', 'user_id': 10},\n {'_id': 6, 'repo_id': 1, 'ts': '2015-08-07T20:30:00Z', 'user_id': 12},\n {'_id': 7, 'repo_id': 2, 'ts': '2014-06-11T07:16:00Z', 'user_id': 12},\n {'_id': 8, 'repo_id': 498, 'ts': '2016-06-30T01:51:00Z', 'user_id': 12},\n {'_id': 9, 'repo_id': 2, 'ts': '2014-06-16T03:19:00Z', 'user_id': 13}]"
     },
     "execution_count": 5,
     "metadata": {},
     "output_type": "execute_result"
    }
   ],
   "source": [
    "list(client.querysql('SELECT * FROM stargazer LIMIT 10'))"
   ],
   "metadata": {
    "collapsed": false,
    "pycharm": {
     "name": "#%%\n"
    }
   }
  },
  {
   "cell_type": "code",
   "execution_count": 6,
   "outputs": [],
   "source": [
    "import pandas as pd"
   ],
   "metadata": {
    "collapsed": false,
    "pycharm": {
     "name": "#%%\n"
    }
   }
  },
  {
   "cell_type": "code",
   "execution_count": 7,
   "outputs": [
    {
     "data": {
      "text/plain": "          _id  condition  cylinders  drive lat  long  odometer  price  \\\n0         992          4          6  [4wd]  42   -85     40000  30000   \n1        1817          3          8  [4wd]  41   -71    101000  10900   \n2        1916          3          8  [4wd]  44  -123    253765   3328   \n3        2467          3          6  [rwd]  29   -81    111610   6995   \n4        2549          2          8  [4wd]  44   -91    193016   2350   \n...       ...        ...        ...    ...  ..   ...       ...    ...   \n5197  1722306          1          8  [rwd]  38   -94     43911   1900   \n5198  1722443          3          8  [4wd]  33   -89     93580  23800   \n5199  1722445          3          6  [4wd]  33   -89     94380  26900   \n5200  1722448          3          8  [4wd]  33   -89     99108  22900   \n5201  1722957          2          8  [4wd]  33   -88    160360  16750   \n\n             size title_status transmission weather_c  year  \n0     [full-size]       [lien]  [automatic]         7  2015  \n1     [full-size]      [clean]  [automatic]         9  2006  \n2     [full-size]      [clean]  [automatic]        10  1998  \n3     [full-size]      [clean]  [automatic]        18  2008  \n4     [full-size]      [clean]  [automatic]         7  2003  \n...           ...          ...          ...       ...   ...  \n5197  [full-size]      [clean]  [automatic]        11  1977  \n5198  [full-size]      [clean]  [automatic]        16  2014  \n5199  [full-size]      [clean]  [automatic]        16  2015  \n5200  [full-size]      [clean]  [automatic]        16  2015  \n5201  [full-size]      [clean]  [automatic]        16  2012  \n\n[5202 rows x 13 columns]",
      "text/html": "<div>\n<style scoped>\n    .dataframe tbody tr th:only-of-type {\n        vertical-align: middle;\n    }\n\n    .dataframe tbody tr th {\n        vertical-align: top;\n    }\n\n    .dataframe thead th {\n        text-align: right;\n    }\n</style>\n<table border=\"1\" class=\"dataframe\">\n  <thead>\n    <tr style=\"text-align: right;\">\n      <th></th>\n      <th>_id</th>\n      <th>condition</th>\n      <th>cylinders</th>\n      <th>drive</th>\n      <th>lat</th>\n      <th>long</th>\n      <th>odometer</th>\n      <th>price</th>\n      <th>size</th>\n      <th>title_status</th>\n      <th>transmission</th>\n      <th>weather_c</th>\n      <th>year</th>\n    </tr>\n  </thead>\n  <tbody>\n    <tr>\n      <th>0</th>\n      <td>992</td>\n      <td>4</td>\n      <td>6</td>\n      <td>[4wd]</td>\n      <td>42</td>\n      <td>-85</td>\n      <td>40000</td>\n      <td>30000</td>\n      <td>[full-size]</td>\n      <td>[lien]</td>\n      <td>[automatic]</td>\n      <td>7</td>\n      <td>2015</td>\n    </tr>\n    <tr>\n      <th>1</th>\n      <td>1817</td>\n      <td>3</td>\n      <td>8</td>\n      <td>[4wd]</td>\n      <td>41</td>\n      <td>-71</td>\n      <td>101000</td>\n      <td>10900</td>\n      <td>[full-size]</td>\n      <td>[clean]</td>\n      <td>[automatic]</td>\n      <td>9</td>\n      <td>2006</td>\n    </tr>\n    <tr>\n      <th>2</th>\n      <td>1916</td>\n      <td>3</td>\n      <td>8</td>\n      <td>[4wd]</td>\n      <td>44</td>\n      <td>-123</td>\n      <td>253765</td>\n      <td>3328</td>\n      <td>[full-size]</td>\n      <td>[clean]</td>\n      <td>[automatic]</td>\n      <td>10</td>\n      <td>1998</td>\n    </tr>\n    <tr>\n      <th>3</th>\n      <td>2467</td>\n      <td>3</td>\n      <td>6</td>\n      <td>[rwd]</td>\n      <td>29</td>\n      <td>-81</td>\n      <td>111610</td>\n      <td>6995</td>\n      <td>[full-size]</td>\n      <td>[clean]</td>\n      <td>[automatic]</td>\n      <td>18</td>\n      <td>2008</td>\n    </tr>\n    <tr>\n      <th>4</th>\n      <td>2549</td>\n      <td>2</td>\n      <td>8</td>\n      <td>[4wd]</td>\n      <td>44</td>\n      <td>-91</td>\n      <td>193016</td>\n      <td>2350</td>\n      <td>[full-size]</td>\n      <td>[clean]</td>\n      <td>[automatic]</td>\n      <td>7</td>\n      <td>2003</td>\n    </tr>\n    <tr>\n      <th>...</th>\n      <td>...</td>\n      <td>...</td>\n      <td>...</td>\n      <td>...</td>\n      <td>...</td>\n      <td>...</td>\n      <td>...</td>\n      <td>...</td>\n      <td>...</td>\n      <td>...</td>\n      <td>...</td>\n      <td>...</td>\n      <td>...</td>\n    </tr>\n    <tr>\n      <th>5197</th>\n      <td>1722306</td>\n      <td>1</td>\n      <td>8</td>\n      <td>[rwd]</td>\n      <td>38</td>\n      <td>-94</td>\n      <td>43911</td>\n      <td>1900</td>\n      <td>[full-size]</td>\n      <td>[clean]</td>\n      <td>[automatic]</td>\n      <td>11</td>\n      <td>1977</td>\n    </tr>\n    <tr>\n      <th>5198</th>\n      <td>1722443</td>\n      <td>3</td>\n      <td>8</td>\n      <td>[4wd]</td>\n      <td>33</td>\n      <td>-89</td>\n      <td>93580</td>\n      <td>23800</td>\n      <td>[full-size]</td>\n      <td>[clean]</td>\n      <td>[automatic]</td>\n      <td>16</td>\n      <td>2014</td>\n    </tr>\n    <tr>\n      <th>5199</th>\n      <td>1722445</td>\n      <td>3</td>\n      <td>6</td>\n      <td>[4wd]</td>\n      <td>33</td>\n      <td>-89</td>\n      <td>94380</td>\n      <td>26900</td>\n      <td>[full-size]</td>\n      <td>[clean]</td>\n      <td>[automatic]</td>\n      <td>16</td>\n      <td>2015</td>\n    </tr>\n    <tr>\n      <th>5200</th>\n      <td>1722448</td>\n      <td>3</td>\n      <td>8</td>\n      <td>[4wd]</td>\n      <td>33</td>\n      <td>-89</td>\n      <td>99108</td>\n      <td>22900</td>\n      <td>[full-size]</td>\n      <td>[clean]</td>\n      <td>[automatic]</td>\n      <td>16</td>\n      <td>2015</td>\n    </tr>\n    <tr>\n      <th>5201</th>\n      <td>1722957</td>\n      <td>2</td>\n      <td>8</td>\n      <td>[4wd]</td>\n      <td>33</td>\n      <td>-88</td>\n      <td>160360</td>\n      <td>16750</td>\n      <td>[full-size]</td>\n      <td>[clean]</td>\n      <td>[automatic]</td>\n      <td>16</td>\n      <td>2012</td>\n    </tr>\n  </tbody>\n</table>\n<p>5202 rows × 13 columns</p>\n</div>"
     },
     "execution_count": 7,
     "metadata": {},
     "output_type": "execute_result"
    }
   ],
   "source": [
    "cars = pd.DataFrame(list(client.querysql('SELECT * FROM cars')))\n",
    "cars"
   ],
   "metadata": {
    "collapsed": false,
    "pycharm": {
     "name": "#%%\n"
    }
   }
  }
 ],
 "metadata": {
  "kernelspec": {
   "display_name": "Python 3",
   "language": "python",
   "name": "python3"
  },
  "language_info": {
   "codemirror_mode": {
    "name": "ipython",
    "version": 2
   },
   "file_extension": ".py",
   "mimetype": "text/x-python",
   "name": "python",
   "nbconvert_exporter": "python",
   "pygments_lexer": "ipython2",
   "version": "2.7.6"
  }
 },
 "nbformat": 4,
 "nbformat_minor": 0
}